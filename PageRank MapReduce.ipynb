{
 "cells": [
  {
   "cell_type": "markdown",
   "metadata": {},
   "source": [
    "# Algorithme de PageRank"
   ]
  },
  {
   "cell_type": "markdown",
   "metadata": {},
   "source": [
    "## Introduction "
   ]
  },
  {
   "cell_type": "markdown",
   "metadata": {},
   "source": [
    "En 2019, le nombre de sites Internet s'élève à plus 1,7 milliard, d'après les statistiques annuelles obtenues par NetCraft et l'algorithme Worldmeters. Néanmoins, derrière ce chiffre impressionnant, le nombre de sites web considérés comme actifs ne s'élève qu'à moins de 200 millions.\n",
    "\n",
    "Lorsque nous effectuons une recherche sur Google, on peut se demander comment Google classe les résultats de cette requête, au vu du grand nombre de données disponibles. En fait, il va utiliser une mesure de la qualité ou de la popularité des pages web (PageRank) pour classer les résultats par ordre de pertinence.\n",
    "\n",
    "Le web peut être vu comme un graphe dirigé G(V,E) où les sommets V sont les pages web et les arcs E sont les hyperliens entre les pages. Les arcs partent de la page où se trouve le lien et vont vers la page indiquée. La présence d'un lien vers une certaine page constitue un \"vote\" en faveur de cette page. Le PageRank est donc une mesure de l'importance relative d'une page sur le web. Cette valeur est basée sur plusieurs principes : \n",
    "- Les pages recevant plus de liens sont plus importantes \n",
    "- Un lien en provenance d'une page \" importante\" est plus significatif qu'un lien en provenance d'une page peu importante \n",
    "- Si une page contient beaucoup de liens, chaque lien a moins de valeur. \n",
    "\n",
    "Plus formellement, le PageRank P de la page n est défini de la façon suivante : <br/>\n",
    "$$ P(n) = \\alpha ( \\frac{1}{|G|} ) + (1-\\alpha) \\sum_{m \\in L(n) } \\frac{P(m)}{C(m)}$$\n",
    "\n",
    "où |G| est le nombre total de noeuds ( ou de pages) dans le graphe,  <br/>\n",
    " $\\alpha$ est le facteur aléatoire de \"saut\", <br/>\n",
    " L(n) est l'ensemble des pages liées à n , <br/>\n",
    " C(m) est le nombre de liens sur la page m, <br/>\n",
    " \n",
    "Dans ce sens, l'ensemble des PageRank des L(n) pages vont altérer le PageRank de n. En effet, en étant sur une page m de L(n), la probabilité d'arriver sur la page n est de $\\frac{1}{C(m)}$. Puisque le PageRank de m est la probabilité d'être en m, la probabilité d'arriver à n en étant à m est de $\\frac{P(m)}{C(m)}$"
   ]
  },
  {
   "cell_type": "markdown",
   "metadata": {},
   "source": [
    "https://medium.com/analytics-vidhya/how-google-search-works-page-rank-algorithm-using-python-9643d9c9a981\n",
    "https://towardsdatascience.com/pagerank-3c568a7d2332"
   ]
  },
  {
   "cell_type": "markdown",
   "metadata": {},
   "source": [
    "# Proposition de plan : \n",
    "\n",
    "## 0 : Introduction \n",
    "\n",
    "\n",
    "## 1 : PageRank \n",
    "- Explication formelle/algébrique \n",
    "- Implémentation d'un algo + explications \n",
    "- Complexité de l'algo : Où est ce que ça demande un temps de calcul long ( --> Multiplication de matrice --> Sol : MapReduce )\n",
    "\n",
    "\n",
    "## 2 : MapReduce \n",
    "- Explication formelle/algébrique de MapREduce en général \n",
    "- Comment ça va simplifier notre algo de PageRank ?\n",
    "- Implémentation d'un algo + explications \n",
    "- Complexité de l'algo + comparaison avec celui du dessous \n",
    "\n",
    "\n",
    "## 3 : Application \n",
    "- 1 ou 2 jeux de données : le premier en petite dimension où le premier algo est efficace, puis un second jeu de données en grande dimension, où le premier algo peine à converger --> intêter de MapReduce \n",
    "- Vraie problématique + interprétation du score PageRank "
   ]
  },
  {
   "cell_type": "markdown",
   "metadata": {},
   "source": [
    "Lien pas mal avec une explication algébrique du PageRank: https://hippocampus-garden.com/pagerank/\n",
    "\n"
   ]
  },
  {
   "cell_type": "markdown",
   "metadata": {},
   "source": [
    "https://hippocampus-garden.com/pagerank/\n"
   ]
  },
  {
   "cell_type": "markdown",
   "metadata": {},
   "source": [
    "https://michaelnielsen.org/blog/using-mapreduce-to-compute-pagerank/"
   ]
  },
  {
   "cell_type": "code",
   "execution_count": 31,
   "metadata": {},
   "outputs": [],
   "source": [
    "import numpy as np\n",
    "import numpy\n",
    "from numpy import * \n",
    "import random\n",
    "import matplotlib.pyplot as plt\n",
    "import time\n",
    "# from scipy import special "
   ]
  },
  {
   "cell_type": "markdown",
   "metadata": {},
   "source": [
    "### Etape 1 : Modélisation du web \n",
    "On veut que le web soit modélisé de sorte à ce que chaque page soit associée à d'autres pages par un dictionnaire\n",
    "Puisque les pages n'ont pas forcement de lien entre elles, la matrice de liaison est composée de multiples 0. On veut donc une distribution de probabilité qui favorise la valeur 0. On selectionne random.zipf en le tronquant à n ( taille de la population ) pour que le nombre de pages liées à la page k ne puisse pas être plus grand que le nombre de pages total."
   ]
  },
  {
   "cell_type": "code",
   "execution_count": 32,
   "metadata": {},
   "outputs": [
    {
     "data": {
      "image/png": "[encoded data removed]",
      "text/plain": [
       "<Figure size 432x288 with 1 Axes>"
      ]
     },
     "metadata": {
      "needs_background": "light"
     },
     "output_type": "display_data"
    }
   ],
   "source": [
    "# Distribution de la fonction random.zipf(2,1000)\n",
    "a = 2. # parameter\n",
    "s = np.random.zipf(a, 1000)-1\n",
    "count, bins, ignored = plt.hist(s[s<50], 50, density=True)\n",
    "plt.show()"
   ]
  },
  {
   "cell_type": "code",
   "execution_count": 33,
   "metadata": {},
   "outputs": [],
   "source": [
    "class web:\n",
    "    '''\n",
    "    Définition d'une classe pour modéliser le web\n",
    "    '''\n",
    "    def __init__(self,n):\n",
    "        self.size = n # Taille du web\n",
    "        self.in_links = {} # Dictionnaire vide des pages se référant à la page i ( pour i allant de 0 à n )\n",
    "        self.number_out_links = {} # Dictionnaire vide des pages référencées par i ( pour i allant de 0 à n)\n",
    "        self.dangling_pages = {} # Dictionnaire vide des pages ne se reférant à aucune autre\n",
    "        for j in range(n): # Préparation des dictionnaires\n",
    "            self.in_links[j] = []\n",
    "            self.number_out_links[j] = 0\n",
    "            self.dangling_pages[j] = True\n",
    "        self.matrixG = np.zeros((n,n)) # création de la matrice de représentaiton du web (taille nxn )\n",
    "\n",
    "\n",
    "def random_web(n=1000):\n",
    "    '''Fonction de modélisation du web\n",
    "    Input : \n",
    "        - n : taille du réseau\n",
    "        \n",
    "    Output : \n",
    "        - g de class web\n",
    "    '''\n",
    "    g = web(n)\n",
    "    for k in range(n):\n",
    "        # Nombre aléatoire de liens qui se référent à la page k :\n",
    "        number_link_k = min(numpy.random.zipf(2)-1,n) # min pour ne pas obtenir d'échantillon plus grand que l'ensemble de la population\n",
    "        # Nom des pages qui se référent à la page k\n",
    "        values = random.sample(range(n),number_link_k)\n",
    "        # Pages qui citent k \n",
    "        g.in_links[k] = values\n",
    "        # mise à jour de la matrice représentative du web\n",
    "        for j in values: \n",
    "            # mise à jour de la matrice représentative du web\n",
    "            g.matrixG[j,k]=1\n",
    "            # mise à jour des dangling pages\n",
    "            if g.number_out_links[j] == 0: \n",
    "                g.dangling_pages.pop(j)\n",
    "            # mise à jour du nombre de liens de sortie\n",
    "            g.number_out_links[j] += 1\n",
    "    return g"
   ]
  },
  {
   "cell_type": "code",
   "execution_count": 34,
   "metadata": {},
   "outputs": [],
   "source": [
    "g=random_web(3000)"
   ]
  },
  {
   "cell_type": "markdown",
   "metadata": {},
   "source": [
    "### Etape 2 : Algorithmes de PageRank simples"
   ]
  },
  {
   "cell_type": "markdown",
   "metadata": {},
   "source": [
    "https://hippocampus-garden.com/pagerank/\n",
    "\n",
    "https://michaelnielsen.org/blog/lectures-on-the-google-technology-stack-1-introduction-to-pagerank/"
   ]
  },
  {
   "cell_type": "code",
   "execution_count": 35,
   "metadata": {},
   "outputs": [
    {
     "data": {
      "text/plain": [
       "array([[0., 0., 0., ..., 0., 0., 0.],\n",
       "       [0., 0., 0., ..., 0., 0., 0.],\n",
       "       [0., 0., 0., ..., 0., 0., 0.],\n",
       "       ...,\n",
       "       [0., 0., 0., ..., 0., 0., 0.],\n",
       "       [0., 0., 0., ..., 0., 0., 0.],\n",
       "       [0., 0., 0., ..., 0., 0., 0.]])"
      ]
     },
     "execution_count": 35,
     "metadata": {},
     "output_type": "execute_result"
    }
   ],
   "source": [
    "def get_matrice (g):\n",
    "    '''\n",
    "    Description matricielle du web, avec les poids de chaque page. \n",
    "    \n",
    "    Input : \n",
    "        - g de type web\n",
    "        \n",
    "    Output : \n",
    "        - G : matrice représentative du web\n",
    "        \n",
    "    Exemple : \n",
    "        - g=random_web(5)\n",
    "        - g.in_links \n",
    "        >>> {0: [3, 0, 4, 2, 1], 1: [0], 2: [], 3: [], 4: []}\n",
    "        - get_matrice(g)\n",
    "        >>> array([[0.5, 0.5, 0. , 0. , 0. ],\n",
    "                   [1. , 0. , 0. , 0. , 0. ],\n",
    "                   [1. , 0. , 0. , 0. , 0. ],\n",
    "                   [1. , 0. , 0. , 0. , 0. ],\n",
    "                   [1. , 0. , 0. , 0. , 0. ]])\n",
    "    \n",
    "    '''\n",
    "    A = g.matrixG.copy()\n",
    "    # On adapte pour les noeuds qui n'ont pas de sortie ( sinon division par 0 ): \n",
    "    is_dangling= np.sum(A, axis=1)==0\n",
    "    # Noeuds sans sortie : le web surfeur se téléporte vers un autre noeud de façon aléatoire : \n",
    "    B = (np.ones_like(A) - np.identity(g.size)) / (g.size-1) \n",
    "    A[is_dangling,:] += B[is_dangling,:]\n",
    "    # Attribution des poids\n",
    "    D_inv= np.diag(1/np.sum(A, axis=1))\n",
    "    G=D_inv@A\n",
    "    return G\n",
    "get_matrice(g)"
   ]
  },
  {
   "cell_type": "markdown",
   "metadata": {},
   "source": [
    "Soit n pages et p = ($p_1$ , ... , $p_n$ ) la distribution de probabilité des pages.\n",
    "\n",
    "Soit G la matrise de représentation des liens aléatoires entre les pages ( donnée par la fonction get_matrice () ). \n",
    "$$\n",
    "G_{jk} = \\begin{cases} \\frac{1}{\\#(k)}, & \\text{si la page k est liée à la page j} \\\\ 0, & \\text { si la page k n'est pas liée à la page j }   \\end{cases}\n",
    "$$\n",
    "On suppose que si la page k n'a aucun lien de sortie ( dangling node ) alors le web surfeur ira sur n'importe quelle autre page avec probabilité $\\frac{1}{n}$. C'est à dire $G_{jk} = \\frac{1}{n} $ pour tout j.\n",
    "\n",
    "La matrice E représente la matrice de téléportation. Elle téléporte le websurfer de la page k à la page j avec probabilité $\\frac{1}{n}$. C'est à dire $E_{jk} =\\frac{1}{n}$. \n",
    "\n",
    "Le websurfer a donc deux possibilité : \n",
    "- Avec probabilité s, il suit un lien aléatoire depuis la page où il se trouve, \n",
    "- Avec probabilité d = 1-s, il change totalement de chemin en se téléportant vers une autre page. \n",
    "\n",
    "Comme dans le papier initial de la publication de PageRank([The anatomy of a large-scale hypertextual Web search engine - Sergey Brin, Lawrence Page - 1998](https://snap.stanford.edu/class/cs224w-readings/Brin98Anatomy.pdf )), on choisira s = 0,85 et d = 0,15. \n",
    "\n",
    "Après une étape on arrive donc à : \n",
    "M = sG + dE"
   ]
  },
  {
   "cell_type": "markdown",
   "metadata": {},
   "source": [
    "#### Algorithme 1 : Décomposition en valeurs propres\n",
    "**Définition matrice de Markov ( ou stochastique ) :** Matrice de taille n x n à valeurs $m_{ij}$ réelles telle que : \n",
    "- $0 \\le m_{ij} \\le 1 $\n",
    "- Toutes les colonnes sont sommées à 1 : $ \\sum_i m_{ij} = 1 $ pour tous j\n",
    "- Chaque ligne a au moins une valeur non nulle\n",
    "- Certaines colonnes ont plus d'une entrée non nulle \n",
    "\n",
    "La valeur $m_{ij}$ est la probabilité d'aller au i-ième stade en partant du stade j.\n",
    "\n",
    "La matrice inverse de get_matrice(g) est une matrice de Markov. Ainsi, $M = (1-d)G + dE$ ( avec G la transposée de get_matrice(g)) est de Markov. De plus, c'est une matrice inversible.\n",
    "\n",
    "\n",
    "Donc, d'après le [**Théorème de Perron Frobenius**](https://sites.math.northwestern.edu/~clark/354/2002/perron.pdf), la matrice M est à coefficients positifs, de type n $\\times$ n et est irréductible. Alors les propriétés suivantes sont valables : \n",
    "- M a une valeur propre 1 de multiplicité 1 \n",
    "- 1 est la plus grande valeur propre \n",
    "- Pour la valeur propre 1, il existe un unique vecteur propre où la somme de ses composants est égale à 1\n",
    "\n",
    "De ce fait, on a juste à calculer le vecteur propre de la valeur propre 1 pour obtenir le score PageRank. "
   ]
  },
  {
   "cell_type": "code",
   "execution_count": 36,
   "metadata": {},
   "outputs": [],
   "source": [
    "def pagerank_vp(g, d=0.15):\n",
    "    '''\n",
    "    Premier algorithme de PageRank utilisant la décomposition en valeurs propres et vecteurs propres\n",
    "    \n",
    "    Input : \n",
    "        - g de type web\n",
    "        - d : probabilité de se téléporter\n",
    "        \n",
    "    Output : \n",
    "        - G : matrice représentative du web\n",
    "        \n",
    "    Exemple : \n",
    "        - g=random_web(5)\n",
    "        - pagerank_vp(g)\n",
    "        >>> (0.008076667785644531, array([-0.03, -0.03, -0.03, -0.88, -0.03]))\n",
    "    \n",
    "    '''\n",
    "    # Début du compteur\n",
    "    loopStartTime = time.time()\n",
    "    G = get_matrice(g).T\n",
    "    E= np.ones((g.size,g.size))/g.size\n",
    "    M = (1-d)*G + d*E\n",
    "    #Décomposition en valeurs propres et vecteurs propres \n",
    "    eigenvalues, eigenvectors = np.linalg.eig(M)\n",
    "    # Récupération de l'index de la plus grande valeur popre\n",
    "    idx = eigenvalues.argsort()[-1] \n",
    "    # Récupération du vecteur propre associé \n",
    "    largest = np.array(eigenvectors[:,idx]).flatten().real\n",
    "    # On normalise pour que la somme soit égale à 1 \n",
    "    PageRank = largest / np.sum(np.abs(largest))\n",
    "    # Fin du compteur\n",
    "    loopEndTime = time.time()\n",
    "    print(\"Temps de traitement PageRank_vp : \" + str( loopEndTime - loopStartTime) + \" s.\\n\")\n",
    "    return loopEndTime - loopStartTime, PageRank"
   ]
  },
  {
   "cell_type": "markdown",
   "metadata": {},
   "source": [
    "#### Algorithme 2 : Astuce 1 réécriture de l'équation\n",
    "On peut trouver le score Page Rank d'une autre méthode. \n",
    "On peut définir la distribution PageRank, q, comme la distribution de probabilité inchangée par une marche aléatoire : q = Mq.\n",
    "\n",
    "En reprennant l'équation M = sG + dE et en l'intégrant à q=Mq : $ q = Mq \\Leftrightarrow (sG + dE)q = q  \\Leftrightarrow   sGq + dEq = q \\Leftrightarrow q(I-sG) = dEq $ \n",
    "\n",
    "Alors l'équation Mq = q est équivalente à (I-sG)q = dEq\n",
    "\n",
    "On pose Eq = s(q) P où s(q) représente la somme des entrée du vecteur q. On sait que q satisfait Mq=q. \n",
    "\n",
    "Ainsi, ( I -sG) q = ds(q) P\n",
    "\n",
    "Pour prouver l'existence et l'unicité de l'équation Mq=q, il suffit de prouver que I-sG a un inverse ( équivalent à dire que I-sG n'a aucune valeur propre nulle ). \n",
    "\n",
    "G est une matrice stochastique et par le Théorème de Perron Frobenius, toutes les valeurs propres de G, en valeur absolue, sont inférieures à 1.\n",
    "\n",
    "Prouvons par l'absurde que I-sG est inversible. On suppose qu'il existe un vecteur v différent de 0 tel que (I-sM)v = 0. Cela est équivalent à dire que $ Mv = \\frac{1}{s}v$, et donc que M a une valeur absolue de $\\frac{1}{s} >1 $, ce qui est en contradiction avec la forme de M. Ainsi I-sG est inversible. \n",
    "\n",
    "\n",
    "Ainsi, l'équation ( I -sG) q = ds(q) P ne peut pas avoir de solution q non trivial si s(q)=0. On suppose donc s(q) $\\ne$ 0. Puisque l'on peut toujours normaliser $q=\\frac{q}{s(q)}$, on peut admettre sans perte de généralité que s(q) =1. \n",
    "\n",
    "\n",
    "Ainsi, ( I -sG) q = ds(q) P est équivalent à $q =  d (I-sG)^{-1} P$\n"
   ]
  },
  {
   "cell_type": "code",
   "execution_count": 37,
   "metadata": {},
   "outputs": [],
   "source": [
    "def pagerank_1 (g , d = 0.15) :\n",
    "    # Début du compteur\n",
    "    loopStartTime = time.time()\n",
    "    G = get_matrice(g).T\n",
    "    I = mat(eye(g.size)) # Matrice identité\n",
    "    # Vecteur de téléportation\n",
    "    P = (1.0/g.size)*mat(ones((g.size,1)))\n",
    "    s = 1-d\n",
    "    # compute the PageRank vector \n",
    "    PageRank = d*((I-s*G).I)*P  \n",
    "    # Fin du compteur\n",
    "    loopEndTime = time.time()\n",
    "    print(\"Temps de traitement PageRank_1 : \" + str( loopEndTime - loopStartTime) + \" s.\\n\")\n",
    "    return loopEndTime - loopStartTime,  PageRank"
   ]
  },
  {
   "cell_type": "code",
   "execution_count": 38,
   "metadata": {},
   "outputs": [
    {
     "name": "stdout",
     "output_type": "stream",
     "text": [
      "Temps de traitement PageRank_1 : 4.893512010574341 s.\n",
      "\n"
     ]
    },
    {
     "data": {
      "text/plain": [
       "(4.893512010574341,\n",
       " matrix([[5.00000000e-05],\n",
       "         [5.00000000e-05],\n",
       "         [5.00000000e-05],\n",
       "         ...,\n",
       "         [5.00000000e-05],\n",
       "         [4.19443780e-04],\n",
       "         [7.79791667e-05]]))"
      ]
     },
     "execution_count": 38,
     "metadata": {},
     "output_type": "execute_result"
    }
   ],
   "source": [
    "pagerank_1(g)"
   ]
  },
  {
   "cell_type": "markdown",
   "metadata": {},
   "source": [
    "#### Comparaison des méthodes"
   ]
  },
  {
   "cell_type": "code",
   "execution_count": 7,
   "metadata": {},
   "outputs": [],
   "source": [
    "def compare_models (number_nodes) : \n",
    "    \"\"\"\n",
    "    Fonction de comparaison des temps de traitement des modèles pagerank_vp et page_rank_1\n",
    "    \n",
    "    Input : \n",
    "        - number_nodes : taille du réseau\n",
    "        \n",
    "    Output : \n",
    "        - liste des temps de traitement par taille\n",
    "    \"\"\"\n",
    "    l_pagerank_vp = []\n",
    "    l_pagerank_1 = []\n",
    "    for nodes in range (2,number_nodes) : \n",
    "        if nodes%100 == 0 : print(\"Traitement pour\",nodes,\"noeuds\")\n",
    "        g=random_web(nodes)\n",
    "        l_pagerank_vp.append(pagerank_vp(g)[0])\n",
    "        l_pagerank_1.append(pagerank_1(g)[0])\n",
    "    return l_pagerank_vp, l_pagerank_1"
   ]
  },
  {
   "cell_type": "code",
   "execution_count": 66,
   "metadata": {},
   "outputs": [
    {
     "name": "stdout",
     "output_type": "stream",
     "text": [
      "Traitement pour 100 noeuds\n",
      "Traitement pour 200 noeuds\n",
      "Traitement pour 300 noeuds\n",
      "Traitement pour 400 noeuds\n",
      "Traitement pour 500 noeuds\n",
      "Traitement pour 600 noeuds\n",
      "Traitement pour 700 noeuds\n",
      "Traitement pour 800 noeuds\n",
      "Traitement pour 900 noeuds\n",
      "Traitement pour 1000 noeuds\n",
      "Traitement pour 1100 noeuds\n",
      "Traitement pour 1200 noeuds\n",
      "Traitement pour 1300 noeuds\n",
      "Traitement pour 1400 noeuds\n",
      "Traitement pour 1500 noeuds\n",
      "Traitement pour 1600 noeuds\n",
      "Traitement pour 1700 noeuds\n",
      "Traitement pour 1800 noeuds\n",
      "Traitement pour 1900 noeuds\n",
      "Traitement pour 2000 noeuds\n",
      "Traitement pour 2100 noeuds\n",
      "Traitement pour 2200 noeuds\n",
      "Traitement pour 2300 noeuds\n",
      "Traitement pour 2400 noeuds\n",
      "Traitement pour 2500 noeuds\n",
      "Traitement pour 2600 noeuds\n",
      "Traitement pour 2700 noeuds\n",
      "Traitement pour 2800 noeuds\n",
      "Traitement pour 2900 noeuds\n"
     ]
    }
   ],
   "source": [
    "comparaison = compare_models (3000)"
   ]
  },
  {
   "cell_type": "code",
   "execution_count": 67,
   "metadata": {},
   "outputs": [
    {
     "data": {
      "image/png": "[encoded data removed]",
      "text/plain": [
       "<Figure size 432x288 with 1 Axes>"
      ]
     },
     "metadata": {
      "needs_background": "light"
     },
     "output_type": "display_data"
    }
   ],
   "source": [
    "import matplotlib.pyplot as plt\n",
    "plt.plot(comparaison[0], label = \" pagerank_vp\")\n",
    "plt.plot(comparaison[1], label = \" pagerank_1\")\n",
    "\n",
    "plt.ylabel('Temps de traitement')\n",
    "plt.xlabel('Nombre de noeuds')\n",
    "plt.legend()\n",
    "\n",
    "plt.show()"
   ]
  },
  {
   "cell_type": "markdown",
   "metadata": {},
   "source": [
    "### Etape 3 : Algorithme de PageRank astuce 2 \n",
    "https://michaelnielsen.org/blog/using-your-laptop-to-compute-pagerank-for-millions-of-webpages/\n"
   ]
  },
  {
   "cell_type": "markdown",
   "metadata": {},
   "source": [
    "#### Algorithme 3:\n",
    "\n",
    "Supposons que nous avons $1,...,n$ pages numérotées. Une page j est associée à un score $q_j$ mesurant son importance appelé PageRank. Il s'agit d'un nombre compris entre 0 et 1. Plus il sera proche de 1 plus son importance sera grande.\n",
    "\n",
    "Le vecteur $q = (q_1,...,q_n)$ donne le score pour chacune des pages.\n",
    "\n",
    "Il est implementé de la sorte:\n",
    "\n",
    "$q = M^jP$\n",
    "\n",
    "P correspond à une distribution de départ au début de la navigation et réalise j étape de navigation sur internet avec chaque action de M représentant le changement de distribution pour une étape. P peut être choisi de n'importe quelle façon tant qu'il s'agit d'une distribution de probabilité. On choisira ici une loi uniforme pour initialiser P:\n",
    "$P = (1/n,...,1/n)$\n",
    "\n",
    "La matrice M est définie de la façon suivante:\n",
    "\n",
    "$M = sA + sD + tE$ \n",
    "\n",
    "où sA correspond à une navigation aléatoire, sD correspond au fait d'attérrir sur une page sans autre lien et tE correspond au fait de se \"téléporter\" à une page aléatoirement.\n",
    "\n",
    "Nous choisirons s = 0.85 et t = 1-s = 0.15 pour les probabilités de choisir un lien au hasard et pour se \"téléporter\" respectivement. \n",
    "\n",
    "La matruce A décrit la structure du web. Nous définissons $\\#(j)$ le nombre de liens depuis la page j. $A_{kj}$ sera 0 si la page j n'a pas de lien vers k et $1/\\#(j)$ si la page j a un lien vers la page k. \n",
    "\n",
    "La matrice D est ajoutée pour prendre un compte les pages qui n'ont aucun lien vers d'autres sites. On choisit dans ce cas de prendre une page de façon uniformément aléatoire parmi toutes les pages. Si j est une page sans liensn la jème colonne de D devrait avoir toutes ses valeurs à 1/n sinon toutes les valeurs devraient être nulles.\n",
    "\n",
    "Cela peut s'écrire de la sorte:\n",
    "\n",
    "$D = ed^T/n$\n",
    "\n",
    "où d est le vecteur représentant les pages sans lien (1 si pas de lien, 0 sinon) et e un vecteur ne contenant que des 1\n",
    "\n",
    "Le dernier élements de M est la matrice E, qui décrit la téléportation vers un site au hasard. Cette matrice possède 1/n sur toutes ses valeurs representant une probabilité uniforme d'attérrir sur une autre page.\n",
    "\n",
    "En manipulant naivement le vecteur de PageRank et n^2 éléments pour la matrice M, l'algorithme n'est pas très efficace. Pour éviter ceci, les matrices A, D et E ont une structure particulière. A est très sparse puisque la plupart des pages web n'ont de lien qu'avec une petite proportion de tout le web et la plupart de ses valeurs sont à 0. D n'est pas sparse mais a une structure simple determinée par un vecteur (pas une matrice) et d ce qui rend les multiplications impliquant D très simples à effectuer. Enfin, la matrice E est encore plus simple, il est assez immédiat d'implémenter les actions de E sur un vecteur.\n",
    "\n",
    "L'algorithme ci-dessous va donc procéder de la sorte: implémentation de $M^jP$ en multipliant le vecteur P par M et à chaque multiplication, utilisation de la forme $M = sA+sD+tE$ pour éviter de garder en mémoire des vecteurs de dimension n. Il s'agit de l'étape `step` de l'algorithme ci-dessous qui permet d'implémenter le PageRank sur des millions de pages webs.\n",
    "\n",
    "Le coeur de l'algorighme est donc de déterminer $(Mv)_j$ pour chaque indice j, où v est un vecteur arbitraire. \n",
    "On fait cela en implémentant $(Av)_j, (Dv)_j et (Ev)_j$ séparément et en additionnant ensuite les résultats avec les poinds s et t.\n",
    "\n",
    "Pour implémenter $(Av)_j$, on note que $(Av)_j = \\sum_k A_{jk} v_k$. On implémente donc cela en additionnant sur toutes les pages k qui ont un lien avec la page j, avec $A_{jk} = 1/\\#(k)$ pour chaque cas. Le nombre total d'opérations pour implémenter Av est $\\Theta(l)$, où l est le nombre total de liens dans le graphe web, bien inférieur à n^2. La mémoire requise est donc $\\Theta(n)$.\n",
    "\n",
    "Pour implémenter Dv, on note que $Dv = e (d\\cdot v) /n$, pour implémenter le produit scalaire $d \\cdot c$, le pire cas demanderait $\\Theta(n)$ opérations et $\\Theta(n)$ en mémoire pour stocker d.\n",
    "\n",
    "Enfin, on implémente $(Ev)_j$ facilement puisque c'est simplement $(e \\cdot v)/n$ , qui ne requiert pas de mémoire supplémentaire.\n",
    "\n",
    "On peut alors implémenter Mv en utilisant un nombre total d'opértions $\\Theta(n+1)$ et une mémoire totale $\\Theta(n)$, ainsi on approxime le vecteur de PageRank $q \\approx M^j P$\n",
    "\n",
    "avec un nombre total d'opérations $\\Theta(j(n+1))$, avec un coût en mémoire de $\\Theta(n)$."
   ]
  },
  {
   "cell_type": "code",
   "execution_count": 8,
   "metadata": {},
   "outputs": [],
   "source": [
    "def step(g, p, s=0.85):\n",
    "    '''Performs a single step in the PageRank computation,\n",
    "    with web g and parameter s. Applies the corresponding M\n",
    "    matrix to the vector p, and returns the resulting vector.'''\n",
    "    n = g.size\n",
    "    v = np.matrix(numpy.zeros((n,1)))\n",
    "    inner_product = sum([p[j] for j in g.dangling_pages.keys()])\n",
    "    for j in range(n):\n",
    "        v[j] = s*sum([p[k]/g.number_out_links[k] for k in g.in_links[j]])+s*inner_product/n+(1-s)/n\n",
    "    # We rescale the return vector, so it remains \n",
    "    # a probability distribution even floating point \n",
    "    # roundoff.\n",
    "    return v/np.sum(v)\n",
    "\n",
    "def pagerank_2(g, s=0.85, tolerance=0.00001):\n",
    "    '''Returns the PageRank vector for the web g\n",
    "    and parameters s, where the criterion for convergence is that\n",
    "    we stop when M^(j+1)P-M^jP has length less than \n",
    "    tolerance, in l1 norm.'''\n",
    "    start = time.time()\n",
    "    n = g.size\n",
    "    p = np.matrix(np.ones((n,1)))/n\n",
    "    iteration = 1\n",
    "    change = 2\n",
    "    while change > tolerance:\n",
    "        new_p = step(g,p,s)\n",
    "        change = np.sum(np.abs(p-new_p))\n",
    "        p = new_p\n",
    "        iteration +=1\n",
    "    end = time.time()\n",
    "    return end-start, p"
   ]
  },
  {
   "cell_type": "code",
   "execution_count": 9,
   "metadata": {},
   "outputs": [
    {
     "name": "stdout",
     "output_type": "stream",
     "text": [
      "Temps d'exécution : 2.1ms\n"
     ]
    }
   ],
   "source": [
    "g = random_web(3000) # works up to several million\n",
    "                          # pages.\n",
    "start = time.time()\n",
    "pr = pagerank_2(g,0.85,0.0001)\n",
    "end = time.time()\n",
    "elapsed = end - start\n",
    "print(f'Temps d\\'exécution : {elapsed:.2}ms')"
   ]
  },
  {
   "cell_type": "code",
   "execution_count": 10,
   "metadata": {},
   "outputs": [
    {
     "data": {
      "text/plain": [
       "(2.141010046005249,\n",
       " matrix([[5.01263804e-05],\n",
       "         [5.62131585e-05],\n",
       "         [5.01263804e-05],\n",
       "         ...,\n",
       "         [6.43288626e-05],\n",
       "         [5.01263804e-05],\n",
       "         [5.01263804e-05]]))"
      ]
     },
     "execution_count": 10,
     "metadata": {},
     "output_type": "execute_result"
    }
   ],
   "source": [
    "pr"
   ]
  },
  {
   "cell_type": "markdown",
   "metadata": {},
   "source": [
    "#### Comparaison des algorithmes 2 et 3"
   ]
  },
  {
   "cell_type": "markdown",
   "metadata": {},
   "source": [
    "#### Première façon de comparer"
   ]
  },
  {
   "cell_type": "code",
   "execution_count": 22,
   "metadata": {},
   "outputs": [],
   "source": [
    "def compare_models2 (number_nodes) : \n",
    "    l_pagerank_1 = []\n",
    "    pagerank_2 = []\n",
    "    for nodes in range (2,number_nodes) : \n",
    "        if nodes%100 == 0 : print(\"Traitement pour\",nodes,\"noeuds\")\n",
    "        g=random_web(nodes)\n",
    "        l_pagerank_1.append(pagerank_1(g)[0])\n",
    "        pagerank_2.append(pagerank(g)[0])\n",
    "    return l_pagerank_1, pagerank_2"
   ]
  },
  {
   "cell_type": "code",
   "execution_count": 26,
   "metadata": {},
   "outputs": [
    {
     "name": "stdout",
     "output_type": "stream",
     "text": [
      "Traitement pour 100 noeuds\n",
      "Traitement pour 200 noeuds\n",
      "Traitement pour 300 noeuds\n",
      "Traitement pour 400 noeuds\n",
      "Traitement pour 500 noeuds\n",
      "Traitement pour 600 noeuds\n",
      "Traitement pour 700 noeuds\n",
      "Traitement pour 800 noeuds\n",
      "Traitement pour 900 noeuds\n"
     ]
    }
   ],
   "source": [
    "comparaison2 = compare_models2 (1000)"
   ]
  },
  {
   "cell_type": "code",
   "execution_count": 27,
   "metadata": {},
   "outputs": [
    {
     "data": {
      "image/png": "[encoded data removed]",
      "text/plain": [
       "<Figure size 432x288 with 1 Axes>"
      ]
     },
     "metadata": {
      "needs_background": "light"
     },
     "output_type": "display_data"
    }
   ],
   "source": [
    "import matplotlib.pyplot as plt\n",
    "plt.plot(comparaison2[0], label = \" pagerank_l\")\n",
    "plt.plot(comparaison2[1], label = \" pagerank_2\")\n",
    "\n",
    "plt.ylabel('Temps de traitement')\n",
    "plt.xlabel('Nombre de noeuds')\n",
    "plt.legend()\n",
    "\n",
    "plt.show()"
   ]
  },
  {
   "cell_type": "markdown",
   "metadata": {},
   "source": [
    "Pour un faible nombre de noeuds (en dessous de 1000), l'algorithme 3 est plus lent que l'algorithme 2."
   ]
  },
  {
   "cell_type": "markdown",
   "metadata": {},
   "source": [
    "**Comparaison avec 3000 noeuds**"
   ]
  },
  {
   "cell_type": "code",
   "execution_count": null,
   "metadata": {},
   "outputs": [],
   "source": [
    "def compare_models2 (number_nodes) : \n",
    "    l_pagerank_1 = []\n",
    "    l_pagerank_2 = []\n",
    "    for nodes in range (2,number_nodes) : \n",
    "        if nodes%100 == 0 : print(\"Traitement pour\",nodes,\"noeuds\")\n",
    "        g=random_web(nodes)\n",
    "        l_pagerank_1.append(pagerank_1(g)[0])\n",
    "        l_pagerank_2.append(pagerank_2(g)[0])\n",
    "    return l_pagerank_1, l_pagerank_2"
   ]
  },
  {
   "cell_type": "code",
   "execution_count": 26,
   "metadata": {},
   "outputs": [
    {
     "name": "stdout",
     "output_type": "stream",
     "text": [
      "Traitement pour 100 noeuds\n",
      "Traitement pour 200 noeuds\n",
      "Traitement pour 300 noeuds\n",
      "Traitement pour 400 noeuds\n",
      "Traitement pour 500 noeuds\n",
      "Traitement pour 600 noeuds\n",
      "Traitement pour 700 noeuds\n",
      "Traitement pour 800 noeuds\n",
      "Traitement pour 900 noeuds\n",
      "Traitement pour 1000 noeuds\n",
      "Traitement pour 1100 noeuds\n",
      "Traitement pour 1200 noeuds\n",
      "Traitement pour 1300 noeuds\n",
      "Traitement pour 1400 noeuds\n",
      "Traitement pour 1500 noeuds\n",
      "Traitement pour 1600 noeuds\n",
      "Traitement pour 1700 noeuds\n",
      "Traitement pour 1800 noeuds\n",
      "Traitement pour 1900 noeuds\n",
      "Traitement pour 2000 noeuds\n",
      "Traitement pour 2100 noeuds\n",
      "Traitement pour 2200 noeuds\n",
      "Traitement pour 2300 noeuds\n",
      "Traitement pour 2400 noeuds\n",
      "Traitement pour 2500 noeuds\n",
      "Traitement pour 2600 noeuds\n",
      "Traitement pour 2700 noeuds\n",
      "Traitement pour 2800 noeuds\n",
      "Traitement pour 2900 noeuds\n"
     ]
    }
   ],
   "source": [
    "comparaison2 = compare_models2 (3000)"
   ]
  },
  {
   "cell_type": "code",
   "execution_count": 28,
   "metadata": {},
   "outputs": [
    {
     "data": {
      "image/png": "[encoded data removed]",
      "text/plain": [
       "<Figure size 432x288 with 1 Axes>"
      ]
     },
     "metadata": {
      "needs_background": "light"
     },
     "output_type": "display_data"
    }
   ],
   "source": [
    "import matplotlib.pyplot as plt\n",
    "plt.plot(comparaison2[0], label = \" pagerank_1\")\n",
    "plt.plot(comparaison2[1], label = \" pagerank_2\")\n",
    "\n",
    "plt.ylabel('Temps de traitement')\n",
    "plt.xlabel('Nombre de noeuds')\n",
    "plt.legend()\n",
    "\n",
    "plt.show()"
   ]
  },
  {
   "cell_type": "markdown",
   "metadata": {},
   "source": [
    "Pour un nombre de noeuds entre 1000 et 3000, les temps de traitement sont à peu près équivalents pour les deux algorithmes."
   ]
  },
  {
   "cell_type": "markdown",
   "metadata": {},
   "source": [
    "#### Deuxième façon de comparer algorithmes 2 et 3 plus rapide"
   ]
  },
  {
   "cell_type": "code",
   "execution_count": 12,
   "metadata": {},
   "outputs": [],
   "source": [
    "def compare_models_2_3(number_nodes):\n",
    "    l_pagerank_1 = []\n",
    "    l_pagerank_2 = []\n",
    "    for num in number_nodes:\n",
    "        g = random_web(num)\n",
    "        l_pagerank_1.append(pagerank_1(g)[0])\n",
    "        l_pagerank_2.append(pagerank_2(g)[0])\n",
    "    return l_pagerank_1, l_pagerank_2"
   ]
  },
  {
   "cell_type": "code",
   "execution_count": 13,
   "metadata": {},
   "outputs": [],
   "source": [
    "number_nodes = [100, 1000, 3000, 5000, 10000]\n",
    "comparaison2_3 = compare_models_2_3(number_nodes)"
   ]
  },
  {
   "cell_type": "code",
   "execution_count": 17,
   "metadata": {},
   "outputs": [
    {
     "data": {
      "image/png": "[encoded data removed]",
      "text/plain": [
       "<Figure size 432x288 with 1 Axes>"
      ]
     },
     "metadata": {
      "needs_background": "light"
     },
     "output_type": "display_data"
    }
   ],
   "source": [
    "import matplotlib.pyplot as plt\n",
    "plt.plot(number_nodes,comparaison2_3[0], label = \" pagerank_1\")\n",
    "plt.plot(number_nodes,comparaison2_3[1], label = \" pagerank_2\")\n",
    "\n",
    "plt.ylabel('Temps de traitement (ms)')\n",
    "plt.xlabel('Nombre de noeuds')\n",
    "plt.legend()\n",
    "\n",
    "plt.show()"
   ]
  },
  {
   "cell_type": "markdown",
   "metadata": {},
   "source": [
    "Pour un nombre de noeuds assez faible (inférieur à 3000), les performances des deux algorithmes sont équivalentes.\n",
    "\n",
    "En revanche, lorsque l'on passe à un nombre de noeuds plus grand, l'algorithme 2 est beaucoup plus rapide. \n",
    "Pour 10000 noeuds par exemple, le deuxième algorithme est 10 fois plus rapide. \n",
    "Le deuxième algorithme est donc plus pertinent car dans le cadre d'une modélisation du web, le nombre de pages est très conséquent."
   ]
  },
  {
   "cell_type": "markdown",
   "metadata": {},
   "source": [
    "### Etape 4 : Algorithme de PageRank astuce 3 Map Reduce\n",
    "\n",
    "https://michaelnielsen.org/blog/using-mapreduce-to-compute-pagerank/\n",
    "\n",
    "https://michaelnielsen.org/blog/write-your-first-mapreduce-program-in-20-minutes/"
   ]
  },
  {
   "cell_type": "markdown",
   "metadata": {},
   "source": [
    "### Bibliographie :\n",
    "https://snap.stanford.edu/class/cs224w-readings/Brin98Anatomy.pdf\n",
    "http://lintool.github.io/MapReduceAlgorithms/MapReduce-book-final.pdf\n",
    "https://michaelnielsen.org/blog/lectures-on-the-google-technology-stack-1-introduction-to-pagerank/\n",
    "https://hippocampus-garden.com/pagerank/\n",
    "https://sites.math.northwestern.edu/~clark/354/2002/perron.pdf\n"
   ]
  }
 ],
 "metadata": {
  "kernelspec": {
   "display_name": "Python 3",
   "language": "python",
   "name": "python3"
  },
  "language_info": {
   "codemirror_mode": {
    "name": "ipython",
    "version": 3
   },
   "file_extension": ".py",
   "mimetype": "text/x-python",
   "name": "python",
   "nbconvert_exporter": "python",
   "pygments_lexer": "ipython3",
   "version": "3.8.5"
  }
 },
 "nbformat": 4,
 "nbformat_minor": 4
}
