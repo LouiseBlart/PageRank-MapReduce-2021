{
 "cells": [
  {
   "cell_type": "markdown",
   "metadata": {},
   "source": [
    "# Algorithme de PageRank"
   ]
  },
  {
   "cell_type": "markdown",
   "metadata": {},
   "source": [
    "## Introduction "
   ]
  },
  {
   "cell_type": "markdown",
   "metadata": {},
   "source": [
    "En 2019, le nombre de sites Internet s'élève à plus 1,7 milliard, d'après les statistiques annuelles obtenues par NetCraft et l'algorithme Worldmeters. Néanmoins, derrière ce chiffre impressionnant, le nombre de sites web considérés comme actifs ne s'élève qu'à moins de 200 millions.\n",
    "\n",
    "Lorsque nous effectuons une recherche sur Google, on peut se demander comment Google classe les résultats de cette requête, au vu du grand nombre de données disponibles. En fait, il va utiliser une mesure de la qualité ou de la popularité des pages web (PageRank) pour classer les résultats par ordre de pertinence.\n",
    "\n",
    "Le web peut être vu comme un graphe dirigé G(V,E) où les sommets V sont les pages web et les arcs E sont les hyperliens entre les pages. Les arcs partent de la page où se trouve le lien et vont vers la page indiquée. La présence d'un lien vers une certaine page constitue un \"vote\" en faveur de cette page. Le PageRank est donc une mesure de l'importance relative d'une page sur le web. Cette valeur est basée sur plusieurs principes : \n",
    "- Les pages recevant plus de liens sont plus importantes \n",
    "- Un lien en provenance d'une page \" importante\" est plus significatif qu'un lien en provenance d'une page peu importante \n",
    "- Si une page contient beaucoup de liens, chaque lien a moins de valeur. \n",
    "\n",
    "Plus formellement, le PageRank P de la page n est défini de la façon suivante : <br/>\n",
    "$$ P(n) = \\alpha ( \\frac{1}{|G|} ) + (1-\\alpha) \\sum_{m \\in L(n) } \\frac{P(m)}{C(m)}$$\n",
    "\n",
    "où |G| est le nombre total de noeuds ( ou de pages) dans le graphe,  <br/>\n",
    " $\\alpha$ est le facteur aléatoire de \"saut\", <br/>\n",
    " L(n) est l'ensemble des pages liées à n , <br/>\n",
    " C(m) est le nombre de liens sur la page m, <br/>\n",
    " \n",
    "Dans ce sens, l'ensemble des PageRank des L(n) pages vont altérer le PageRank de n. En effet, en étant sur une page m de L(n), la probabilité d'arriver sur la page n est de $\\frac{1}{C(m)}$. Puisque le PageRank de m est la probabilité d'être en m, la probabilité d'arriver à n en étant à m est de $\\frac{P(m)}{C(m)}$"
   ]
  },
  {
   "cell_type": "markdown",
   "metadata": {},
   "source": [
    "https://medium.com/analytics-vidhya/how-google-search-works-page-rank-algorithm-using-python-9643d9c9a981\n",
    "https://towardsdatascience.com/pagerank-3c568a7d2332"
   ]
  },
  {
   "cell_type": "markdown",
   "metadata": {},
   "source": [
    "# Proposition de plan : \n",
    "\n",
    "## 0 : Introduction \n",
    "\n",
    "\n",
    "## 1 : PageRank \n",
    "- Explication formelle/algébrique \n",
    "- Implémentation d'un algo + explications \n",
    "- Complexité de l'algo : Où est ce que ça demande un temps de calcul long ( --> Multiplication de matrice --> Sol : MapReduce )\n",
    "\n",
    "\n",
    "## 2 : MapReduce \n",
    "- Explication formelle/algébrique de MapREduce en général \n",
    "- Comment ça va simplifier notre algo de PageRank ?\n",
    "- Implémentation d'un algo + explications \n",
    "- Complexité de l'algo + comparaison avec celui du dessous \n",
    "\n",
    "\n",
    "## 3 : Application \n",
    "- 1 ou 2 jeux de données : le premier en petite dimension où le premier algo est efficace, puis un second jeu de données en grande dimension, où le premier algo peine à converger --> intêter de MapReduce \n",
    "- Vraie problématique + interprétation du score PageRank "
   ]
  },
  {
   "cell_type": "markdown",
   "metadata": {},
   "source": [
    "Lien pas mal avec une explication algébrique du PageRank: https://hippocampus-garden.com/pagerank/\n",
    "\n"
   ]
  },
  {
   "cell_type": "markdown",
   "metadata": {},
   "source": [
    "https://hippocampus-garden.com/pagerank/\n"
   ]
  },
  {
   "cell_type": "markdown",
   "metadata": {},
   "source": [
    "https://michaelnielsen.org/blog/using-mapreduce-to-compute-pagerank/"
   ]
  },
  {
   "cell_type": "code",
   "execution_count": 1,
   "metadata": {},
   "outputs": [],
   "source": [
    "import numpy as np\n",
    "from numpy import * \n",
    "import numpy\n",
    "import random\n",
    "import matplotlib.pyplot as plt\n",
    "import time\n",
    "# from scipy import special "
   ]
  },
  {
   "cell_type": "markdown",
   "metadata": {},
   "source": [
    "### Etape 1 : Modélisation du web \n",
    "On veut que le web soit modélisé de la sorte à ce que chaque page soit associée à d'autres pages par un dictionnaire\n",
    "Puisque les pages n'ont pas forcement de lien entre elles, la matrice de liaison est composée de multiples 0. On veut donc une distribution de probabilité qui favorise la valeur 0. On selectionne random.zipf en le tronquant à n ( taille de la population ) pour que le nombre de pages liées à la page k ne puisse pas être plus grand que le nombre de pages total."
   ]
  },
  {
   "cell_type": "code",
   "execution_count": 2,
   "metadata": {},
   "outputs": [
    {
     "data": {
      "image/png": "[encoded data removed]",
      "text/plain": [
       "<Figure size 432x288 with 1 Axes>"
      ]
     },
     "metadata": {
      "needs_background": "light"
     },
     "output_type": "display_data"
    }
   ],
   "source": [
    "a = 2. # parameter\n",
    "s = np.random.zipf(a, 1000)-1\n",
    "count, bins, ignored = plt.hist(s[s<50], 50, density=True)\n",
    "plt.show()"
   ]
  },
  {
   "cell_type": "code",
   "execution_count": 12,
   "metadata": {},
   "outputs": [],
   "source": [
    "class web:\n",
    "    def __init__(self,n):\n",
    "        self.size = n\n",
    "        self.in_links = {}\n",
    "        self.number_out_links = {}\n",
    "        self.dangling_pages = {}\n",
    "        for j in range(n):\n",
    "            self.in_links[j] = []\n",
    "            self.number_out_links[j] = 0\n",
    "            self.dangling_pages[j] = True\n",
    "        self.matrixG = np.zeros((n,n)) \n",
    "\n",
    "\n",
    "def random_web(n=1000):\n",
    "    '''Fonction de modélisation du web'''\n",
    "    g = web(n)\n",
    "    for k in range(n):\n",
    "        #print('k',k)\n",
    "        # Nombre aléatoire de liens qui se référent à la page k :\n",
    "        number_link_k = min(numpy.random.zipf(2)-1,n) # min pour ne pas obtenir d'échantillon plus grand que l'ensemble de la population\n",
    "        # Nom des pages qui se référent à la page k\n",
    "        values = random.sample(range(n),number_link_k)\n",
    "        # Pages qui citent k \n",
    "        g.in_links[k] = values\n",
    "        # mise à jour de la matrice représentative du web\n",
    "        for j in values: \n",
    "            # mise à jour de la matrice représentative du web\n",
    "            g.matrixG[j,k]=1\n",
    "            # mise à jour des dangling pages\n",
    "            if g.number_out_links[j] == 0: \n",
    "                g.dangling_pages.pop(j)\n",
    "            # mise à jour du nombre de liens de sortie\n",
    "            g.number_out_links[j] += 1\n",
    "    return g"
   ]
  },
  {
   "cell_type": "code",
   "execution_count": 10,
   "metadata": {},
   "outputs": [],
   "source": [
    "g=random_web(3000)"
   ]
  },
  {
   "cell_type": "markdown",
   "metadata": {},
   "source": [
    "### Etape 2 : Algorithmes de PageRank simples"
   ]
  },
  {
   "cell_type": "markdown",
   "metadata": {},
   "source": [
    "https://hippocampus-garden.com/pagerank/\n",
    "\n",
    "https://michaelnielsen.org/blog/lectures-on-the-google-technology-stack-1-introduction-to-pagerank/"
   ]
  },
  {
   "cell_type": "code",
   "execution_count": 17,
   "metadata": {},
   "outputs": [
    {
     "data": {
      "text/plain": [
       "array([[0., 0., 0., ..., 0., 0., 0.],\n",
       "       [0., 0., 0., ..., 0., 0., 0.],\n",
       "       [0., 0., 0., ..., 0., 0., 0.],\n",
       "       ...,\n",
       "       [0., 0., 0., ..., 0., 0., 0.],\n",
       "       [0., 0., 0., ..., 0., 0., 0.],\n",
       "       [0., 0., 0., ..., 0., 0., 0.]])"
      ]
     },
     "execution_count": 17,
     "metadata": {},
     "output_type": "execute_result"
    }
   ],
   "source": [
    "def get_matrice (g):\n",
    "    '''\n",
    "    Description matricielle du web, avec les poids de chaque page. \n",
    "    \n",
    "    Input : \n",
    "        - g de type web\n",
    "        \n",
    "    Output : \n",
    "        - G : matrice représentative du web\n",
    "        \n",
    "    Exemple : \n",
    "        - g=random_web(5)\n",
    "        - g.in_links \n",
    "        >>> {0: [3, 0, 4, 2, 1], 1: [0], 2: [], 3: [], 4: []}\n",
    "        - get_matrice(g)\n",
    "        >>> array([[0.5, 0.5, 0. , 0. , 0. ],\n",
    "                   [1. , 0. , 0. , 0. , 0. ],\n",
    "                   [1. , 0. , 0. , 0. , 0. ],\n",
    "                   [1. , 0. , 0. , 0. , 0. ],\n",
    "                   [1. , 0. , 0. , 0. , 0. ]])\n",
    "    \n",
    "    '''\n",
    "    A = g.matrixG.copy()\n",
    "    # On adapte pour les noeuds qui n'ont pas de sortie ( sinon division par 0 ): \n",
    "    is_dangling= np.sum(A, axis=1)==0\n",
    "    # Noeuds sans sortie : le web surfeur se téléporte vers une autre noeud de façon aléatoire : \n",
    "    B = (np.ones_like(A) - np.identity(g.size)) / (g.size-1) \n",
    "    A[is_dangling,:] += B[is_dangling,:]\n",
    "    # Attribution des poids\n",
    "    D_inv= np.diag(1/np.sum(A, axis=1))\n",
    "    G=D_inv@A\n",
    "    return G\n",
    "get_matrice(g)"
   ]
  },
  {
   "cell_type": "markdown",
   "metadata": {},
   "source": [
    "Soit n pages et p = ($p_1$ , ... , $p_n$ ) la distribution de probabilité des pages.\n",
    "\n",
    "Soit G la matrise de représentation des liens aléatoires entre les pages ( donnée par la fonction get_matrice () ). \n",
    "$$\n",
    "G_{jk} = \\begin{cases} \\frac{1}{\\#(k)}, & \\text{si la page k est liée à la page j} \\\\ 0, & \\text { si la page k n'est pas liée à la page j }   \\end{cases}\n",
    "$$\n",
    "On suppose que si la page k n'a aucun lien de sortie ( dangling node ) alors le web surfeur ira sur n'importe quelle autre page avec probabilité $\\frac{1}{n}$. C'est à dire $G_{jk} = \\frac{1}{n} $ pour tout j.\n",
    "\n",
    "La matrice E représente la matrice de téléportation. Elle téléporte le websurfer de la page k à la page j avec probabilité $\\frac{1}{n}$. C'est à dire $E_{jk} =\\frac{1}{n}$. \n",
    "\n",
    "Le websurfer a donc deux possibilité : \n",
    "- Avec probabilité s, il suit un lien aléatoire depuis la page où il se trouve, \n",
    "- Avec probabilité d = 1-s, il change totalement de chemin en se téléportant vers une autre page. \n",
    "\n",
    "Comme dans le papier initial de la publication de PageRank, on choisira s = 0,85 et d = 0,15. \n",
    "\n",
    "Après une étape on arrive donc à : \n",
    "M = sG + dE"
   ]
  },
  {
   "cell_type": "markdown",
   "metadata": {},
   "source": [
    "#### Algorithme 1 : Décomposition en valeurs propres\n",
    "\n",
    "D'après le Théorème de Perron Frobenius ( preuve ici https://sites.math.northwestern.edu/~clark/354/2002/perron.pdf ), la matrice M est à coefficients positifs et type n $\\times$ n et est irréductible. Alors les propriétés suivantes sont valables : \n",
    "- M a une valeur propre 1 de multiplicité 1 \n",
    "- 1 est la plus grande valeur propre \n",
    "- Pour la valeur propre 1, il existe un unique vecteur propre où la somme de ses composants est égale à 1\n",
    "\n",
    "De ce fait, on a juste à calculer le vecteur propre de la valeur propre 1 pour obtenir le score PageRank. "
   ]
  },
  {
   "cell_type": "code",
   "execution_count": 20,
   "metadata": {},
   "outputs": [],
   "source": [
    "def pagerank_vp(g, d=0.15):\n",
    "    loopStartTime = time.time()\n",
    "    G = get_matrice(g).T\n",
    "    E= np.ones((g.size,g.size))/g.size\n",
    "    M = (1-d)*G + d*E\n",
    "    #Décomposition en valeurs propres et vecteurs propres \n",
    "    eigenvalues, eigenvectors = np.linalg.eig(M)\n",
    "    # Récupération de l'index de la plus grande valeur popre\n",
    "    idx = eigenvalues.argsort()[-1] \n",
    "    # Récupération du vecteur propre associé \n",
    "    largest = np.array(eigenvectors[:,idx]).flatten().real\n",
    "    # On normalise pour que la somme soit égale à 1 \n",
    "    PageRank = largest / np.sum(np.abs(largest))\n",
    "    loopEndTime = time.time()\n",
    "    #print(\"PageRank vp Loop time is: \" + str( loopEndTime - loopStartTime) + \" s.\\n\")\n",
    "    return loopEndTime - loopStartTime, PageRank"
   ]
  },
  {
   "cell_type": "code",
   "execution_count": null,
   "metadata": {},
   "outputs": [],
   "source": [
    "pagerank_vp(g)"
   ]
  },
  {
   "cell_type": "markdown",
   "metadata": {},
   "source": [
    "#### Algorithme 2 : Astuce 1 réécriture de l'équation\n",
    "On peut trouver le score Page Rank d'une autre méthode. \n",
    "On peut définir la distribution PageRank, q, comme la distribution de probabilité inchangée par une marche aléatoire : q = Mq.\n",
    "\n",
    "Soit M = sG + dE. \n",
    "Alors l'équation Mq = q est équivalente à (I-sG)q = dEq\n",
    "\n",
    "On pose Eq = s(q) P où s(q) représente la somme des entrée du vecteur q. On sait que q satisfait Mq=q. \n",
    "\n",
    "Ainsi, ( I -sG) q = ds(q) P\n",
    "\n",
    "Pour prouver l'existence et l'unicité de l'équation Mq=q, il suffit de prouver que I-sG a un inverse ( équivalent à dire que I-sG a une valeur propre nulle ). \n",
    "\n",
    "G est une matrice stochastique, donc toutes ses valeurs propres, en valeur absolue, sont inférieures à 1. \n",
    "\n",
    "On suppose ainsi que s(q) = 1 et donc : \n",
    "\n",
    "$q =  d (I-sG)^{-1} P$\n",
    "\n",
    "\n",
    "Preuve plus détaillée ici https://michaelnielsen.org/blog/lectures-on-the-google-technology-stack-1-introduction-to-pagerank/"
   ]
  },
  {
   "cell_type": "code",
   "execution_count": 37,
   "metadata": {},
   "outputs": [],
   "source": [
    "def pagerank_1 (g , d = 0.15) : \n",
    "    loopStartTime = time.time()\n",
    "    G = get_matrice(g).T\n",
    "    I = mat(eye(g.size)) # Matrice identité\n",
    "    # Vecteur de téléportation\n",
    "    P = (1.0/g.size)*mat(ones((g.size,1)))\n",
    "    s = 1-d\n",
    "    # compute the PageRank vector \n",
    "    PageRank = d*((I-s*G).I)*P     \n",
    "    loopEndTime = time.time()\n",
    "    # print(\"PageRank1 Loop time is: \" + str( loopEndTime - loopStartTime) + \" s.\\n\")\n",
    "    return loopEndTime - loopStartTime,  PageRank"
   ]
  },
  {
   "cell_type": "code",
   "execution_count": 42,
   "metadata": {},
   "outputs": [
    {
     "data": {
      "text/plain": [
       "(0.0,\n",
       " matrix([[0.075],\n",
       "         [0.925]]))"
      ]
     },
     "execution_count": 42,
     "metadata": {},
     "output_type": "execute_result"
    }
   ],
   "source": [
    "pagerank_1(g)"
   ]
  },
  {
   "cell_type": "markdown",
   "metadata": {},
   "source": [
    "#### Comparaison des méthodes"
   ]
  },
  {
   "cell_type": "code",
   "execution_count": 64,
   "metadata": {},
   "outputs": [],
   "source": [
    "def compare_models (number_nodes) : \n",
    "    l_pagerank_vp = []\n",
    "    l_pagerank_1 = []\n",
    "    for nodes in range (2,number_nodes) : \n",
    "        if nodes%100 == 0 : print(\"Traitement pour\",nodes,\"noeuds\")\n",
    "        g=random_web(nodes)\n",
    "        l_pagerank_vp.append(pagerank_vp(g)[0])\n",
    "        l_pagerank_1.append(pagerank_1(g)[0])\n",
    "    return l_pagerank_vp, l_pagerank_1"
   ]
  },
  {
   "cell_type": "code",
   "execution_count": 66,
   "metadata": {},
   "outputs": [
    {
     "name": "stdout",
     "output_type": "stream",
     "text": [
      "Traitement pour 100 noeuds\n",
      "Traitement pour 200 noeuds\n",
      "Traitement pour 300 noeuds\n",
      "Traitement pour 400 noeuds\n",
      "Traitement pour 500 noeuds\n",
      "Traitement pour 600 noeuds\n",
      "Traitement pour 700 noeuds\n",
      "Traitement pour 800 noeuds\n",
      "Traitement pour 900 noeuds\n",
      "Traitement pour 1000 noeuds\n",
      "Traitement pour 1100 noeuds\n",
      "Traitement pour 1200 noeuds\n",
      "Traitement pour 1300 noeuds\n",
      "Traitement pour 1400 noeuds\n",
      "Traitement pour 1500 noeuds\n",
      "Traitement pour 1600 noeuds\n",
      "Traitement pour 1700 noeuds\n",
      "Traitement pour 1800 noeuds\n",
      "Traitement pour 1900 noeuds\n",
      "Traitement pour 2000 noeuds\n",
      "Traitement pour 2100 noeuds\n",
      "Traitement pour 2200 noeuds\n",
      "Traitement pour 2300 noeuds\n",
      "Traitement pour 2400 noeuds\n",
      "Traitement pour 2500 noeuds\n",
      "Traitement pour 2600 noeuds\n",
      "Traitement pour 2700 noeuds\n",
      "Traitement pour 2800 noeuds\n",
      "Traitement pour 2900 noeuds\n"
     ]
    }
   ],
   "source": [
    "comparaison = compare_models (3000)"
   ]
  },
  {
   "cell_type": "code",
   "execution_count": 67,
   "metadata": {},
   "outputs": [
    {
     "data": {
      "image/png": "[encoded data removed]",
      "text/plain": [
       "<Figure size 432x288 with 1 Axes>"
      ]
     },
     "metadata": {
      "needs_background": "light"
     },
     "output_type": "display_data"
    }
   ],
   "source": [
    "import matplotlib.pyplot as plt\n",
    "plt.plot(comparaison[0], label = \" pagerank_vp\")\n",
    "plt.plot(comparaison[1], label = \" pagerank_1\")\n",
    "\n",
    "plt.ylabel('Temps de traitement')\n",
    "plt.xlabel('Nombre de noeuds')\n",
    "plt.legend()\n",
    "\n",
    "plt.show()"
   ]
  },
  {
   "cell_type": "markdown",
   "metadata": {},
   "source": [
    "### Etape 3 : Algorithme de PageRank astuce 2 \n",
    "https://michaelnielsen.org/blog/using-your-laptop-to-compute-pagerank-for-millions-of-webpages/\n"
   ]
  },
  {
   "cell_type": "code",
   "execution_count": 19,
   "metadata": {},
   "outputs": [
    {
     "name": "stdout",
     "output_type": "stream",
     "text": [
      "Now computing the PageRank vector for a random\n",
      "web containing 10000 pages with the criterion\n",
      "for convergence being a change of less than 0.0001 in l1\n",
      "norm over a matrix multiplication step.\n",
      "Iteration: 1\n",
      "Change in l1 norm: 1.3891947855477818\n",
      "Iteration: 2\n",
      "Change in l1 norm: 0.48204530619860103\n",
      "Iteration: 3\n",
      "Change in l1 norm: 0.18267066554401873\n",
      "Iteration: 4\n",
      "Change in l1 norm: 0.06121117267174743\n",
      "Iteration: 5\n",
      "Change in l1 norm: 0.02014173994599746\n",
      "Iteration: 6\n",
      "Change in l1 norm: 0.006107712026051414\n",
      "Iteration: 7\n",
      "Change in l1 norm: 0.0018314946035019662\n",
      "Iteration: 8\n",
      "Change in l1 norm: 0.0005576921730884783\n",
      "Iteration: 9\n",
      "Change in l1 norm: 0.00016328876506393892\n",
      "Iteration: 10\n",
      "Change in l1 norm: 4.715736680251757e-05\n",
      "Temps d'exécution : 8.4ms\n"
     ]
    }
   ],
   "source": [
    "# Generates a random web link structure, and finds the\n",
    "# corresponding PageRank vector.  The number of inbound\n",
    "# links for each page is controlled by a power law\n",
    "# distribution.\n",
    "#\n",
    "# This code should work for up to a few million pages on a\n",
    "# modest machine.\n",
    "#\n",
    "\n",
    "\n",
    "import numpy\n",
    "import random\n",
    "import time\n",
    "import numpy as np\n",
    "def step(g,p,s=0.85):\n",
    "  '''Performs a single step in the PageRank computation,\n",
    "  with web g and parameter s.  Applies the corresponding M\n",
    "  matrix to the vector p, and returns the resulting\n",
    "  vector.'''\n",
    "  n = g.size\n",
    "  v = numpy.matrix(numpy.zeros((n,1)))\n",
    "  inner_product = sum([p[j] for j in g.dangling_pages.keys()])\n",
    "  for j in range(n):\n",
    "    v[j] = s*sum([p[k]/g.number_out_links[k] \n",
    "    for k in g.in_links[j]])+s*inner_product/n+(1-s)/n\n",
    "  # We rescale the return vector, so it remains a\n",
    "  # probability distribution even with floating point\n",
    "  # roundoff.\n",
    "  return v/numpy.sum(v)  \n",
    "\n",
    "def pagerank(g,s=0.85,tolerance=0.00001):\n",
    "  '''Returns the PageRank vector for the web g and\n",
    "  parameter s, where the criterion for convergence is that\n",
    "  we stop when M^(j+1)P-M^jP has length less than\n",
    "  tolerance, in l1 norm.'''\n",
    "  n = g.size\n",
    "  p = numpy.matrix(numpy.ones((n,1)))/n\n",
    "  iteration = 1\n",
    "  change = 2\n",
    "  while change > tolerance:\n",
    "    print(\"Iteration: %s\" % iteration)\n",
    "    new_p = step(g,p,s)\n",
    "    change = numpy.sum(numpy.abs(p-new_p))\n",
    "    print(\"Change in l1 norm: %s\" % change)\n",
    "    p = new_p\n",
    "    iteration += 1\n",
    "  return p\n",
    "\n",
    "print('''Now computing the PageRank vector for a random\n",
    "web containing 10000 pages with the criterion\n",
    "for convergence being a change of less than 0.0001 in l1\n",
    "norm over a matrix multiplication step.''')\n",
    "\n",
    "g = random_web(10000) # works up to several million\n",
    "                          # pages.\n",
    "start = time.time()\n",
    "pr = pagerank(g,0.85,0.0001)\n",
    "end = time.time()\n",
    "elapsed = end - start\n",
    "\n",
    "print(f'Temps d\\'exécution : {elapsed:.2}ms')"
   ]
  },
  {
   "cell_type": "markdown",
   "metadata": {},
   "source": [
    "#### Comparaison des méthodes"
   ]
  },
  {
   "cell_type": "code",
   "execution_count": null,
   "metadata": {},
   "outputs": [],
   "source": []
  },
  {
   "cell_type": "code",
   "execution_count": null,
   "metadata": {},
   "outputs": [],
   "source": []
  },
  {
   "cell_type": "markdown",
   "metadata": {},
   "source": [
    "### Etape 4 : Algorithme de PageRank astuce 3 Map Reduce\n",
    "\n",
    "https://michaelnielsen.org/blog/using-mapreduce-to-compute-pagerank/\n",
    "\n",
    "https://michaelnielsen.org/blog/write-your-first-mapreduce-program-in-20-minutes/"
   ]
  },
  {
   "cell_type": "code",
   "execution_count": null,
   "metadata": {},
   "outputs": [],
   "source": []
  },
  {
   "cell_type": "code",
   "execution_count": null,
   "metadata": {},
   "outputs": [],
   "source": []
  },
  {
   "cell_type": "code",
   "execution_count": null,
   "metadata": {},
   "outputs": [],
   "source": []
  },
  {
   "cell_type": "code",
   "execution_count": null,
   "metadata": {},
   "outputs": [],
   "source": []
  }
 ],
 "metadata": {
  "kernelspec": {
   "display_name": "Python 3",
   "language": "python",
   "name": "python3"
  },
  "language_info": {
   "codemirror_mode": {
    "name": "ipython",
    "version": 3
   },
   "file_extension": ".py",
   "mimetype": "text/x-python",
   "name": "python",
   "nbconvert_exporter": "python",
   "pygments_lexer": "ipython3",
   "version": "3.8.5"
  }
 },
 "nbformat": 4,
 "nbformat_minor": 4
}
